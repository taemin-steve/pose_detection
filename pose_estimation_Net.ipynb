{
 "cells": [
  {
   "cell_type": "code",
   "execution_count": 1,
   "metadata": {},
   "outputs": [],
   "source": [
    "import numpy as np\n",
    "import mediapipe as mp\n",
    "from mediapipe.tasks import python\n",
    "from mediapipe.tasks.python import vision\n",
    "import glob\n",
    "\n",
    "import numpy as np\n",
    "import mediapipe as mp\n",
    "from mediapipe.tasks import python\n",
    "from mediapipe.tasks.python import vision\n",
    "\n",
    "from tqdm.notebook import tqdm\n",
    "import pandas as pd\n",
    "import torch\n",
    "import torch.nn as nn\n",
    "import random\n",
    "import os\n",
    "\n",
    "\n",
    "from sklearn.model_selection import train_test_split\n",
    "from torch.utils.data import DataLoader, Dataset\n",
    "\n",
    "import torch.nn.functional as F\n",
    "from sklearn.metrics import f1_score, accuracy_score, classification_report, recall_score, precision_score\n",
    "from torch import optim\n",
    "\n"
   ]
  },
  {
   "attachments": {},
   "cell_type": "markdown",
   "metadata": {},
   "source": [
    "# Make DataFram\n",
    "\n",
    "###  - columns: review_img_path, product_img_path, Normalized x,y,z ,Ppresenc"
   ]
  },
  {
   "cell_type": "code",
   "execution_count": 2,
   "metadata": {},
   "outputs": [
    {
     "data": {
      "text/html": [
       "<div>\n",
       "<style scoped>\n",
       "    .dataframe tbody tr th:only-of-type {\n",
       "        vertical-align: middle;\n",
       "    }\n",
       "\n",
       "    .dataframe tbody tr th {\n",
       "        vertical-align: top;\n",
       "    }\n",
       "\n",
       "    .dataframe thead th {\n",
       "        text-align: right;\n",
       "    }\n",
       "</style>\n",
       "<table border=\"1\" class=\"dataframe\">\n",
       "  <thead>\n",
       "    <tr style=\"text-align: right;\">\n",
       "      <th></th>\n",
       "      <th>img_path</th>\n",
       "      <th>label</th>\n",
       "      <th>landmark_x</th>\n",
       "      <th>landmark_y</th>\n",
       "      <th>landmark_z</th>\n",
       "      <th>landmark_presence</th>\n",
       "    </tr>\n",
       "  </thead>\n",
       "  <tbody>\n",
       "    <tr>\n",
       "      <th>0</th>\n",
       "      <td>./data/review_img\\0_review_img\\O\\0.jpg</td>\n",
       "      <td>0</td>\n",
       "      <td>NaN</td>\n",
       "      <td>NaN</td>\n",
       "      <td>NaN</td>\n",
       "      <td>NaN</td>\n",
       "    </tr>\n",
       "    <tr>\n",
       "      <th>1</th>\n",
       "      <td>./data/review_img\\0_review_img\\O\\1.jpg</td>\n",
       "      <td>0</td>\n",
       "      <td>[0.7430019378662109, 0.30140167474746704, 0.80...</td>\n",
       "      <td>[0.05356726050376892, 0.04893580079078674, 0.2...</td>\n",
       "      <td>[-0.041502147912979126, 0.029880573973059654, ...</td>\n",
       "      <td>[0.9962781071662903, 0.9993698000907898, 0.990...</td>\n",
       "    </tr>\n",
       "    <tr>\n",
       "      <th>2</th>\n",
       "      <td>./data/review_img\\0_review_img\\O\\10.jpg</td>\n",
       "      <td>0</td>\n",
       "      <td>NaN</td>\n",
       "      <td>NaN</td>\n",
       "      <td>NaN</td>\n",
       "      <td>NaN</td>\n",
       "    </tr>\n",
       "    <tr>\n",
       "      <th>3</th>\n",
       "      <td>./data/review_img\\0_review_img\\O\\100.jpg</td>\n",
       "      <td>0</td>\n",
       "      <td>NaN</td>\n",
       "      <td>NaN</td>\n",
       "      <td>NaN</td>\n",
       "      <td>NaN</td>\n",
       "    </tr>\n",
       "    <tr>\n",
       "      <th>4</th>\n",
       "      <td>./data/review_img\\0_review_img\\O\\101.jpg</td>\n",
       "      <td>0</td>\n",
       "      <td>NaN</td>\n",
       "      <td>NaN</td>\n",
       "      <td>NaN</td>\n",
       "      <td>NaN</td>\n",
       "    </tr>\n",
       "    <tr>\n",
       "      <th>...</th>\n",
       "      <td>...</td>\n",
       "      <td>...</td>\n",
       "      <td>...</td>\n",
       "      <td>...</td>\n",
       "      <td>...</td>\n",
       "      <td>...</td>\n",
       "    </tr>\n",
       "    <tr>\n",
       "      <th>46417</th>\n",
       "      <td>./data/review_img\\9_review_img\\X\\5.jpg</td>\n",
       "      <td>1</td>\n",
       "      <td>NaN</td>\n",
       "      <td>NaN</td>\n",
       "      <td>NaN</td>\n",
       "      <td>NaN</td>\n",
       "    </tr>\n",
       "    <tr>\n",
       "      <th>46418</th>\n",
       "      <td>./data/review_img\\9_review_img\\X\\6.jpg</td>\n",
       "      <td>1</td>\n",
       "      <td>[0.5282172560691833, 0.3690560460090637, 0.617...</td>\n",
       "      <td>[0.17353519797325134, 0.23485377430915833, 0.2...</td>\n",
       "      <td>[-0.15574988722801208, -0.15539097785949707, -...</td>\n",
       "      <td>[0.9999688863754272, 0.9998100399971008, 0.999...</td>\n",
       "    </tr>\n",
       "    <tr>\n",
       "      <th>46419</th>\n",
       "      <td>./data/review_img\\9_review_img\\X\\7.jpg</td>\n",
       "      <td>1</td>\n",
       "      <td>[0.5049400329589844, 0.43606045842170715, 0.62...</td>\n",
       "      <td>[0.21291744709014893, 0.23801586031913757, 0.2...</td>\n",
       "      <td>[-0.3643159866333008, 0.3272627294063568, -0.5...</td>\n",
       "      <td>[0.9999638795852661, 0.9995668530464172, 0.999...</td>\n",
       "    </tr>\n",
       "    <tr>\n",
       "      <th>46420</th>\n",
       "      <td>./data/review_img\\9_review_img\\X\\8.jpg</td>\n",
       "      <td>1</td>\n",
       "      <td>[0.6021363735198975, 0.43856194615364075, 0.59...</td>\n",
       "      <td>[0.08433413505554199, 0.045614272356033325, 0....</td>\n",
       "      <td>[-0.006123891565948725, -0.33828288316726685, ...</td>\n",
       "      <td>[0.9998842477798462, 0.9997095465660095, 0.999...</td>\n",
       "    </tr>\n",
       "    <tr>\n",
       "      <th>46421</th>\n",
       "      <td>./data/review_img\\9_review_img\\X\\9.jpg</td>\n",
       "      <td>1</td>\n",
       "      <td>[0.5680345296859741, 0.4259580373764038, 0.610...</td>\n",
       "      <td>[0.3095270097255707, 0.31925976276397705, 0.42...</td>\n",
       "      <td>[-0.0046425494365394115, 0.12861797213554382, ...</td>\n",
       "      <td>[0.9998698234558105, 0.9991586208343506, 0.998...</td>\n",
       "    </tr>\n",
       "  </tbody>\n",
       "</table>\n",
       "<p>46422 rows × 6 columns</p>\n",
       "</div>"
      ],
      "text/plain": [
       "                                       img_path  label   \n",
       "0        ./data/review_img\\0_review_img\\O\\0.jpg      0  \\\n",
       "1        ./data/review_img\\0_review_img\\O\\1.jpg      0   \n",
       "2       ./data/review_img\\0_review_img\\O\\10.jpg      0   \n",
       "3      ./data/review_img\\0_review_img\\O\\100.jpg      0   \n",
       "4      ./data/review_img\\0_review_img\\O\\101.jpg      0   \n",
       "...                                         ...    ...   \n",
       "46417    ./data/review_img\\9_review_img\\X\\5.jpg      1   \n",
       "46418    ./data/review_img\\9_review_img\\X\\6.jpg      1   \n",
       "46419    ./data/review_img\\9_review_img\\X\\7.jpg      1   \n",
       "46420    ./data/review_img\\9_review_img\\X\\8.jpg      1   \n",
       "46421    ./data/review_img\\9_review_img\\X\\9.jpg      1   \n",
       "\n",
       "                                              landmark_x   \n",
       "0                                                    NaN  \\\n",
       "1      [0.7430019378662109, 0.30140167474746704, 0.80...   \n",
       "2                                                    NaN   \n",
       "3                                                    NaN   \n",
       "4                                                    NaN   \n",
       "...                                                  ...   \n",
       "46417                                                NaN   \n",
       "46418  [0.5282172560691833, 0.3690560460090637, 0.617...   \n",
       "46419  [0.5049400329589844, 0.43606045842170715, 0.62...   \n",
       "46420  [0.6021363735198975, 0.43856194615364075, 0.59...   \n",
       "46421  [0.5680345296859741, 0.4259580373764038, 0.610...   \n",
       "\n",
       "                                              landmark_y   \n",
       "0                                                    NaN  \\\n",
       "1      [0.05356726050376892, 0.04893580079078674, 0.2...   \n",
       "2                                                    NaN   \n",
       "3                                                    NaN   \n",
       "4                                                    NaN   \n",
       "...                                                  ...   \n",
       "46417                                                NaN   \n",
       "46418  [0.17353519797325134, 0.23485377430915833, 0.2...   \n",
       "46419  [0.21291744709014893, 0.23801586031913757, 0.2...   \n",
       "46420  [0.08433413505554199, 0.045614272356033325, 0....   \n",
       "46421  [0.3095270097255707, 0.31925976276397705, 0.42...   \n",
       "\n",
       "                                              landmark_z   \n",
       "0                                                    NaN  \\\n",
       "1      [-0.041502147912979126, 0.029880573973059654, ...   \n",
       "2                                                    NaN   \n",
       "3                                                    NaN   \n",
       "4                                                    NaN   \n",
       "...                                                  ...   \n",
       "46417                                                NaN   \n",
       "46418  [-0.15574988722801208, -0.15539097785949707, -...   \n",
       "46419  [-0.3643159866333008, 0.3272627294063568, -0.5...   \n",
       "46420  [-0.006123891565948725, -0.33828288316726685, ...   \n",
       "46421  [-0.0046425494365394115, 0.12861797213554382, ...   \n",
       "\n",
       "                                       landmark_presence  \n",
       "0                                                    NaN  \n",
       "1      [0.9962781071662903, 0.9993698000907898, 0.990...  \n",
       "2                                                    NaN  \n",
       "3                                                    NaN  \n",
       "4                                                    NaN  \n",
       "...                                                  ...  \n",
       "46417                                                NaN  \n",
       "46418  [0.9999688863754272, 0.9998100399971008, 0.999...  \n",
       "46419  [0.9999638795852661, 0.9995668530464172, 0.999...  \n",
       "46420  [0.9998842477798462, 0.9997095465660095, 0.999...  \n",
       "46421  [0.9998698234558105, 0.9991586208343506, 0.998...  \n",
       "\n",
       "[46422 rows x 6 columns]"
      ]
     },
     "execution_count": 2,
     "metadata": {},
     "output_type": "execute_result"
    }
   ],
   "source": [
    "df = pd.read_csv('./img_Pose.csv')\n",
    "df"
   ]
  },
  {
   "cell_type": "code",
   "execution_count": 3,
   "metadata": {},
   "outputs": [],
   "source": [
    "a = df['landmark_presence'][1][1:-1]\n",
    "list = [float(i.strip()) for i in df['landmark_presence'][1][1:-1].split(\",\")]\n"
   ]
  },
  {
   "cell_type": "code",
   "execution_count": 4,
   "metadata": {},
   "outputs": [
    {
     "data": {
      "text/plain": [
       "label\n",
       "0    42526\n",
       "1     3896\n",
       "Name: count, dtype: int64"
      ]
     },
     "execution_count": 4,
     "metadata": {},
     "output_type": "execute_result"
    }
   ],
   "source": [
    "df['label'].value_counts()"
   ]
  },
  {
   "cell_type": "code",
   "execution_count": 5,
   "metadata": {},
   "outputs": [],
   "source": [
    "df = df.dropna()\n",
    "df = df.reset_index(drop=True)"
   ]
  },
  {
   "cell_type": "code",
   "execution_count": 6,
   "metadata": {},
   "outputs": [
    {
     "data": {
      "text/plain": [
       "label\n",
       "0    35675\n",
       "1     2287\n",
       "Name: count, dtype: int64"
      ]
     },
     "execution_count": 6,
     "metadata": {},
     "output_type": "execute_result"
    }
   ],
   "source": [
    "df['label'].value_counts()"
   ]
  },
  {
   "cell_type": "code",
   "execution_count": 7,
   "metadata": {},
   "outputs": [],
   "source": [
    "# label = []\n",
    "# proper_review = glob.glob('./data/review_img/*/O/*')\n",
    "# proper_review = sorted(proper_review)\n",
    "\n",
    "# for _ in range(len(proper_review)):\n",
    "#     label.append(0)\n",
    "    \n",
    "# unfit_review = glob.glob('./data/review_img/*/X/*')\n",
    "# unfit_review = sorted(unfit_review)\n",
    "\n",
    "# for _ in range(len(unfit_review)):\n",
    "#     label.append(1)\n",
    "\n",
    "# image_path = proper_review + unfit_review "
   ]
  },
  {
   "cell_type": "code",
   "execution_count": 8,
   "metadata": {},
   "outputs": [],
   "source": [
    "# df = pd.DataFrame(columns=['img_path','label'])\n",
    "# df['img_path'] = image_path\n",
    "# df['label'] = label"
   ]
  },
  {
   "cell_type": "code",
   "execution_count": 9,
   "metadata": {},
   "outputs": [],
   "source": [
    "# df"
   ]
  },
  {
   "attachments": {},
   "cell_type": "markdown",
   "metadata": {},
   "source": [
    "# Pose Estimation Net"
   ]
  },
  {
   "cell_type": "code",
   "execution_count": 10,
   "metadata": {},
   "outputs": [],
   "source": [
    "device = torch.device('cuda') if torch.cuda.is_available() else torch.device('cpu')"
   ]
  },
  {
   "cell_type": "code",
   "execution_count": 11,
   "metadata": {},
   "outputs": [],
   "source": [
    "CFG = {\n",
    "    'EPOCHS':100,\n",
    "    'LEARNING_RATE':3e-8,\n",
    "    # 'LEARNING_RATE':10,\n",
    "    'BATCH_SIZE':8,\n",
    "    'SEED':41\n",
    "}"
   ]
  },
  {
   "cell_type": "code",
   "execution_count": 12,
   "metadata": {},
   "outputs": [],
   "source": [
    "def seed_everything(seed):\n",
    "    random.seed(seed)\n",
    "    os.environ['PYTHONHASHSEED'] = 'a'\n",
    "    np.random.seed(seed)\n",
    "    torch.manual_seed(seed)\n",
    "    torch.cuda.manual_seed(seed)\n",
    "    torch.backends.cudnn.deterministic = True\n",
    "    torch.backends.cudnn.benchmark = True\n",
    "\n",
    "seed_everything(CFG['SEED']) # Seed 고정"
   ]
  },
  {
   "attachments": {},
   "cell_type": "markdown",
   "metadata": {},
   "source": [
    "#### Call Mediapipe model "
   ]
  },
  {
   "cell_type": "code",
   "execution_count": 13,
   "metadata": {},
   "outputs": [],
   "source": [
    "# base_options = python.BaseOptions(model_asset_path='pose_landmarker.task')\n",
    "\n",
    "# options = vision.PoseLandmarkerOptions(\n",
    "#     base_options=base_options,\n",
    "#     num_poses = 22,\n",
    "#     output_segmentation_masks=False)\n",
    "\n",
    "# detector = vision.PoseLandmarker.create_from_options(options)\n"
   ]
  },
  {
   "cell_type": "code",
   "execution_count": 14,
   "metadata": {},
   "outputs": [],
   "source": [
    "# save_x = []\n",
    "# save_y = []\n",
    "# save_z = []\n",
    "# save_presence = []\n",
    "\n",
    "# for i in tqdm(image_path):\n",
    "#     img = mp.Image.create_from_file(i)\n",
    "#     pose_landmarks_list = detector.detect(img).pose_landmarks\n",
    "    \n",
    "#     if not pose_landmarks_list:\n",
    "#         save_x.append(None)\n",
    "#         save_y.append(None)\n",
    "#         save_z.append(None)\n",
    "#         save_presence.append(None)\n",
    "#         continue\n",
    "        \n",
    "#     save_x.append([i.x for i in pose_landmarks_list[0][11:33]])\n",
    "#     save_y.append([i.y for i in pose_landmarks_list[0][11:33]])\n",
    "#     save_z.append([i.z for i in pose_landmarks_list[0][11:33]])\n",
    "#     save_presence.append([i.presence for i in pose_landmarks_list[0][11:33]])\n",
    "    \n",
    "# df['landmark_x'] = save_x\n",
    "# df['landmark_y'] = save_y\n",
    "# df['landmark_z'] = save_z\n",
    "# df['landmark_presence'] = save_presence\n",
    "\n",
    "# df.to_csv('./img_Pose', index=False)\n",
    "    "
   ]
  },
  {
   "cell_type": "code",
   "execution_count": 15,
   "metadata": {},
   "outputs": [],
   "source": [
    "# df.to_csv('./img_Pose.csv', index=False)"
   ]
  },
  {
   "cell_type": "code",
   "execution_count": 16,
   "metadata": {},
   "outputs": [],
   "source": [
    "class CustomDataset(Dataset):\n",
    "    def __init__(self, img_path,landmark_x, landmark_y,\tlandmark_z,\tlandmark_presence, label):\n",
    "        self.img_path = img_path\n",
    "\n",
    "        self.landmark_x = landmark_x\n",
    "        self.landmark_y = landmark_y\n",
    "        self.landmark_z= landmark_z\n",
    "        self.landmark_presence = landmark_presence\n",
    "        \n",
    "        self.label = label\n",
    "        \n",
    "    def __getitem__(self,index):\n",
    "        \n",
    "        landmarkX = [float(i.strip()) for i in self.landmark_x[index][1:-1].split(\",\")]\n",
    "        landmarkY = [float(i.strip()) for i in self.landmark_y[index][1:-1].split(\",\")]\n",
    "        landmarkZ = [float(i.strip()) for i in self.landmark_z[index][1:-1].split(\",\")]\n",
    "        landmarkPre = [float(i.strip()) for i in self.landmark_presence[index][1:-1].split(\",\")]\n",
    "        \n",
    "        result = np.array(landmarkX + landmarkY + landmarkZ + landmarkPre)\n",
    "        # print(result.shape)\n",
    "        # print(type(result[0]))\n",
    "        return result, self.label[index]\n",
    "    \n",
    "    def __len__(self):\n",
    "        return len(self.img_path)"
   ]
  },
  {
   "cell_type": "code",
   "execution_count": 17,
   "metadata": {},
   "outputs": [],
   "source": [
    "train, val, _, _ = train_test_split(df, df['label'], test_size=0.3, stratify=df['label'], random_state=CFG['SEED'])"
   ]
  },
  {
   "cell_type": "code",
   "execution_count": 18,
   "metadata": {},
   "outputs": [],
   "source": [
    "train_dataset = CustomDataset(train[\"img_path\"].values, train[\"landmark_x\"].values, train[\"landmark_y\"].values, train[\"landmark_z\"].values,train[\"landmark_presence\"].values, train[\"label\"].values)\n",
    "train_loader = DataLoader(train_dataset, batch_size = CFG['BATCH_SIZE'], shuffle=False, num_workers=0)\n",
    "\n",
    "val_dataset = CustomDataset(val[\"img_path\"].values, val[\"landmark_x\"].values, val[\"landmark_y\"].values, val[\"landmark_z\"].values,val[\"landmark_presence\"].values, val[\"label\"].values)\n",
    "val_loader = DataLoader(val_dataset, batch_size = CFG['BATCH_SIZE'], shuffle=False, num_workers=0)"
   ]
  },
  {
   "cell_type": "code",
   "execution_count": 19,
   "metadata": {},
   "outputs": [],
   "source": [
    "class BaseModel(nn.Module):\n",
    "    def __init__(self):\n",
    "        super(BaseModel, self).__init__()\n",
    "        self.classifier1 = nn.Linear(88, 20)\n",
    "        # self.classifier1 = nn.Linear(22, 2)\n",
    "        self.ReLU = nn.ReLU(inplace=True)\n",
    "        self.classifier2 = nn.Linear(20, 2)\n",
    "        \n",
    "        \n",
    "    def forward(self, x):\n",
    "        x = self.classifier1(x)\n",
    "        x = self.ReLU(x)\n",
    "        x = self.classifier2(x)\n",
    "        \n",
    "        return F.log_softmax(x, dim=1)\n",
    "    "
   ]
  },
  {
   "cell_type": "code",
   "execution_count": 20,
   "metadata": {},
   "outputs": [],
   "source": [
    "def validation(model, criterion, val_loader, device):\n",
    "    model.eval()\n",
    "    val_loss = []\n",
    "    preds, true_labels = [], []\n",
    "  \n",
    "    \n",
    "    with torch.no_grad():\n",
    "        for landmark_list, labels in tqdm(iter(val_loader)):\n",
    "            \n",
    "            landmark_list = landmark_list.float().to(device)\n",
    "            \n",
    "            labels = labels.type(torch.LongTensor).to(device)\n",
    "            \n",
    "            pred = model(landmark_list)\n",
    "\n",
    "            loss = criterion(pred, labels)\n",
    "            \n",
    "            preds += pred.detach().argmax(1).cpu().numpy().tolist()\n",
    "            true_labels += labels.detach().cpu().numpy().tolist()\n",
    "            \n",
    "            val_loss.append(loss.item())\n",
    "            # print(preds, true_labels)\n",
    "            # https://scikit-learn.org/stable/modules/generated/sklearn.metrics.accuracy_score.html\n",
    "            \n",
    "        _val_loss = np.mean(val_loss)\n",
    "        _val_score_f1 = f1_score(true_labels, preds, average='weighted')\n",
    "        _val_score_acc = accuracy_score(true_labels, preds)\n",
    "        _val_score_recall = recall_score(true_labels, preds, average='macro')\n",
    "        _val_score_precision = precision_score(true_labels, preds, average='macro')\n",
    "        report = classification_report(true_labels, preds)\n",
    "        \n",
    "        # print(accuracy_score(true_labels, preds))\n",
    "        \n",
    "        \n",
    "    \n",
    "    return _val_loss, _val_score_f1, _val_score_acc, report , _val_score_recall, _val_score_precision"
   ]
  },
  {
   "cell_type": "code",
   "execution_count": 21,
   "metadata": {},
   "outputs": [],
   "source": [
    "def train(model, optimizer, train_loader, val_loader, scheduler, device):\n",
    "    model = model.to(device)\n",
    "    criterion = nn.NLLLoss(weight=torch.tensor([0.01, 0.99]), reduction=\"sum\").to(device)\n",
    "\n",
    "    best_score = 0\n",
    "    best_model = None\n",
    "    \n",
    "    for epoch in range(0, CFG['EPOCHS']):\n",
    "        model.train()\n",
    "        train_loss = []\n",
    "        \n",
    "        for landmark_list, labels in tqdm(iter(train_loader)):\n",
    "            \n",
    "            landmark_list = landmark_list.float().to(device)\n",
    "            \n",
    "            labels = labels.type(torch.LongTensor).to(device)\n",
    "            \n",
    "            optimizer.zero_grad()\n",
    "            output = model(landmark_list)\n",
    "            \n",
    "            loss = criterion(output, labels)\n",
    "            \n",
    "            loss.backward()\n",
    "            optimizer.step()\n",
    "            train_loss.append(loss.item())\n",
    "                    \n",
    "                \n",
    "        _val_loss, _val_score_f1, _val_score_acc, report , _val_score_recall, _val_score_precision = validation(model, criterion, val_loader, device)\n",
    "        \n",
    "        _train_loss = np.mean(train_loss)\n",
    "        print(f'Epoch [{epoch}], Train Loss : [{_train_loss:.5f}] Val Loss : [{_val_loss:.5f}] Val accuracy score : [{_val_score_acc:.5f}] Val recall score : [{_val_score_recall:.5f}] Val f1 score : [{_val_score_f1:.5f}]')\n",
    "        print(report)\n",
    "        if scheduler is not None:\n",
    "            scheduler.step(_val_score_recall)\n",
    "            \n",
    "        if best_score > _val_score_recall:\n",
    "            best_score = _val_score_recall\n",
    "            best_model = model\n",
    "            torch.save(best_model.state_dict(\"./Pose_Estimate.pt\"))\n",
    "            \n",
    "            \n",
    "    \n",
    "    return best_model"
   ]
  },
  {
   "cell_type": "code",
   "execution_count": 22,
   "metadata": {},
   "outputs": [
    {
     "data": {
      "text/plain": [
       "BaseModel(\n",
       "  (classifier1): Linear(in_features=88, out_features=20, bias=True)\n",
       "  (ReLU): ReLU(inplace=True)\n",
       "  (classifier2): Linear(in_features=20, out_features=2, bias=True)\n",
       ")"
      ]
     },
     "execution_count": 22,
     "metadata": {},
     "output_type": "execute_result"
    }
   ],
   "source": [
    "model = BaseModel()\n",
    "model.eval()"
   ]
  },
  {
   "cell_type": "code",
   "execution_count": 23,
   "metadata": {},
   "outputs": [
    {
     "data": {
      "application/vnd.jupyter.widget-view+json": {
       "model_id": "5dc349b9457749439d240229906dbed0",
       "version_major": 2,
       "version_minor": 0
      },
      "text/plain": [
       "  0%|          | 0/3322 [00:00<?, ?it/s]"
      ]
     },
     "metadata": {},
     "output_type": "display_data"
    },
    {
     "data": {
      "application/vnd.jupyter.widget-view+json": {
       "model_id": "7d2cb3153d6d49e5b8c76350f3521046",
       "version_major": 2,
       "version_minor": 0
      },
      "text/plain": [
       "  0%|          | 0/1424 [00:00<?, ?it/s]"
      ]
     },
     "metadata": {},
     "output_type": "display_data"
    },
    {
     "name": "stdout",
     "output_type": "stream",
     "text": [
      "Epoch [0], Train Loss : [0.43047] Val Loss : [0.42799] Val accuracy score : [0.93959] Val precision score : [0.68440] Val f1 score : [0.91151]\n",
      "              precision    recall  f1-score   support\n",
      "\n",
      "           0       0.94      1.00      0.97     10703\n",
      "           1       0.43      0.01      0.02       686\n",
      "\n",
      "    accuracy                           0.94     11389\n",
      "   macro avg       0.68      0.50      0.49     11389\n",
      "weighted avg       0.91      0.94      0.91     11389\n",
      "\n"
     ]
    },
    {
     "data": {
      "application/vnd.jupyter.widget-view+json": {
       "model_id": "e240492540624d7caeb62693d72c332e",
       "version_major": 2,
       "version_minor": 0
      },
      "text/plain": [
       "  0%|          | 0/3322 [00:00<?, ?it/s]"
      ]
     },
     "metadata": {},
     "output_type": "display_data"
    },
    {
     "data": {
      "application/vnd.jupyter.widget-view+json": {
       "model_id": "07393c84cb9b4ee6bf605828a5f4e2e3",
       "version_major": 2,
       "version_minor": 0
      },
      "text/plain": [
       "  0%|          | 0/1424 [00:00<?, ?it/s]"
      ]
     },
     "metadata": {},
     "output_type": "display_data"
    },
    {
     "name": "stdout",
     "output_type": "stream",
     "text": [
      "Epoch [1], Train Loss : [0.42944] Val Loss : [0.42699] Val accuracy score : [0.93959] Val precision score : [0.68440] Val f1 score : [0.91151]\n",
      "              precision    recall  f1-score   support\n",
      "\n",
      "           0       0.94      1.00      0.97     10703\n",
      "           1       0.43      0.01      0.02       686\n",
      "\n",
      "    accuracy                           0.94     11389\n",
      "   macro avg       0.68      0.50      0.49     11389\n",
      "weighted avg       0.91      0.94      0.91     11389\n",
      "\n"
     ]
    },
    {
     "data": {
      "application/vnd.jupyter.widget-view+json": {
       "model_id": "af6de0d7cae746e6bec06777297d6553",
       "version_major": 2,
       "version_minor": 0
      },
      "text/plain": [
       "  0%|          | 0/3322 [00:00<?, ?it/s]"
      ]
     },
     "metadata": {},
     "output_type": "display_data"
    },
    {
     "data": {
      "application/vnd.jupyter.widget-view+json": {
       "model_id": "afc09304ccf54c84a5746f6c94db78d0",
       "version_major": 2,
       "version_minor": 0
      },
      "text/plain": [
       "  0%|          | 0/1424 [00:00<?, ?it/s]"
      ]
     },
     "metadata": {},
     "output_type": "display_data"
    },
    {
     "name": "stdout",
     "output_type": "stream",
     "text": [
      "Epoch [2], Train Loss : [0.42842] Val Loss : [0.42599] Val accuracy score : [0.93968] Val precision score : [0.70348] Val f1 score : [0.91173]\n",
      "              precision    recall  f1-score   support\n",
      "\n",
      "           0       0.94      1.00      0.97     10703\n",
      "           1       0.47      0.01      0.02       686\n",
      "\n",
      "    accuracy                           0.94     11389\n",
      "   macro avg       0.70      0.50      0.49     11389\n",
      "weighted avg       0.91      0.94      0.91     11389\n",
      "\n"
     ]
    },
    {
     "data": {
      "application/vnd.jupyter.widget-view+json": {
       "model_id": "920ce6ffda954141b9e01a50297f5054",
       "version_major": 2,
       "version_minor": 0
      },
      "text/plain": [
       "  0%|          | 0/3322 [00:00<?, ?it/s]"
      ]
     },
     "metadata": {},
     "output_type": "display_data"
    },
    {
     "data": {
      "application/vnd.jupyter.widget-view+json": {
       "model_id": "82b75acdfa8a40578d0973c94f0609db",
       "version_major": 2,
       "version_minor": 0
      },
      "text/plain": [
       "  0%|          | 0/1424 [00:00<?, ?it/s]"
      ]
     },
     "metadata": {},
     "output_type": "display_data"
    },
    {
     "name": "stdout",
     "output_type": "stream",
     "text": [
      "Epoch [3], Train Loss : [0.42741] Val Loss : [0.42500] Val accuracy score : [0.93968] Val precision score : [0.70348] Val f1 score : [0.91173]\n",
      "              precision    recall  f1-score   support\n",
      "\n",
      "           0       0.94      1.00      0.97     10703\n",
      "           1       0.47      0.01      0.02       686\n",
      "\n",
      "    accuracy                           0.94     11389\n",
      "   macro avg       0.70      0.50      0.49     11389\n",
      "weighted avg       0.91      0.94      0.91     11389\n",
      "\n"
     ]
    },
    {
     "data": {
      "application/vnd.jupyter.widget-view+json": {
       "model_id": "f780bb226b59469fb40316c1162eec0d",
       "version_major": 2,
       "version_minor": 0
      },
      "text/plain": [
       "  0%|          | 0/3322 [00:00<?, ?it/s]"
      ]
     },
     "metadata": {},
     "output_type": "display_data"
    },
    {
     "data": {
      "application/vnd.jupyter.widget-view+json": {
       "model_id": "35cdf837f4324d26be4eedf16303acd0",
       "version_major": 2,
       "version_minor": 0
      },
      "text/plain": [
       "  0%|          | 0/1424 [00:00<?, ?it/s]"
      ]
     },
     "metadata": {},
     "output_type": "display_data"
    },
    {
     "name": "stdout",
     "output_type": "stream",
     "text": [
      "Epoch [4], Train Loss : [0.42640] Val Loss : [0.42402] Val accuracy score : [0.93968] Val precision score : [0.70348] Val f1 score : [0.91173]\n",
      "              precision    recall  f1-score   support\n",
      "\n",
      "           0       0.94      1.00      0.97     10703\n",
      "           1       0.47      0.01      0.02       686\n",
      "\n",
      "    accuracy                           0.94     11389\n",
      "   macro avg       0.70      0.50      0.49     11389\n",
      "weighted avg       0.91      0.94      0.91     11389\n",
      "\n"
     ]
    },
    {
     "data": {
      "application/vnd.jupyter.widget-view+json": {
       "model_id": "41319fcae12849948ce04e31e0302c0a",
       "version_major": 2,
       "version_minor": 0
      },
      "text/plain": [
       "  0%|          | 0/3322 [00:00<?, ?it/s]"
      ]
     },
     "metadata": {},
     "output_type": "display_data"
    },
    {
     "data": {
      "application/vnd.jupyter.widget-view+json": {
       "model_id": "3b45a54cd17b4ebb81e7985ad7b60c39",
       "version_major": 2,
       "version_minor": 0
      },
      "text/plain": [
       "  0%|          | 0/1424 [00:00<?, ?it/s]"
      ]
     },
     "metadata": {},
     "output_type": "display_data"
    },
    {
     "name": "stdout",
     "output_type": "stream",
     "text": [
      "Epoch [5], Train Loss : [0.42539] Val Loss : [0.42304] Val accuracy score : [0.93977] Val precision score : [0.72019] Val f1 score : [0.91194]\n",
      "              precision    recall  f1-score   support\n",
      "\n",
      "           0       0.94      1.00      0.97     10703\n",
      "           1       0.50      0.01      0.02       686\n",
      "\n",
      "    accuracy                           0.94     11389\n",
      "   macro avg       0.72      0.51      0.50     11389\n",
      "weighted avg       0.91      0.94      0.91     11389\n",
      "\n"
     ]
    },
    {
     "data": {
      "application/vnd.jupyter.widget-view+json": {
       "model_id": "3c51fc1b35844c2a9f1239f4fed3c3cd",
       "version_major": 2,
       "version_minor": 0
      },
      "text/plain": [
       "  0%|          | 0/3322 [00:00<?, ?it/s]"
      ]
     },
     "metadata": {},
     "output_type": "display_data"
    },
    {
     "data": {
      "application/vnd.jupyter.widget-view+json": {
       "model_id": "35db741bdcc047b4b0307b04592360af",
       "version_major": 2,
       "version_minor": 0
      },
      "text/plain": [
       "  0%|          | 0/1424 [00:00<?, ?it/s]"
      ]
     },
     "metadata": {},
     "output_type": "display_data"
    },
    {
     "name": "stdout",
     "output_type": "stream",
     "text": [
      "Epoch [6], Train Loss : [0.42439] Val Loss : [0.42207] Val accuracy score : [0.93968] Val precision score : [0.70707] Val f1 score : [0.91206]\n",
      "              precision    recall  f1-score   support\n",
      "\n",
      "           0       0.94      1.00      0.97     10703\n",
      "           1       0.47      0.01      0.03       686\n",
      "\n",
      "    accuracy                           0.94     11389\n",
      "   macro avg       0.71      0.51      0.50     11389\n",
      "weighted avg       0.91      0.94      0.91     11389\n",
      "\n"
     ]
    },
    {
     "data": {
      "application/vnd.jupyter.widget-view+json": {
       "model_id": "fbc76c4ee9de4297ab5621f71f04d53a",
       "version_major": 2,
       "version_minor": 0
      },
      "text/plain": [
       "  0%|          | 0/3322 [00:00<?, ?it/s]"
      ]
     },
     "metadata": {},
     "output_type": "display_data"
    },
    {
     "data": {
      "application/vnd.jupyter.widget-view+json": {
       "model_id": "ac61ba1698fa40e7b7d873263cbb734f",
       "version_major": 2,
       "version_minor": 0
      },
      "text/plain": [
       "  0%|          | 0/1424 [00:00<?, ?it/s]"
      ]
     },
     "metadata": {},
     "output_type": "display_data"
    },
    {
     "name": "stdout",
     "output_type": "stream",
     "text": [
      "Epoch [7], Train Loss : [0.42340] Val Loss : [0.42110] Val accuracy score : [0.93950] Val precision score : [0.68451] Val f1 score : [0.91196]\n",
      "              precision    recall  f1-score   support\n",
      "\n",
      "           0       0.94      1.00      0.97     10703\n",
      "           1       0.43      0.01      0.03       686\n",
      "\n",
      "    accuracy                           0.94     11389\n",
      "   macro avg       0.68      0.51      0.50     11389\n",
      "weighted avg       0.91      0.94      0.91     11389\n",
      "\n"
     ]
    },
    {
     "data": {
      "application/vnd.jupyter.widget-view+json": {
       "model_id": "f20003faaaad40adbb1a3aac2ec74ff9",
       "version_major": 2,
       "version_minor": 0
      },
      "text/plain": [
       "  0%|          | 0/3322 [00:00<?, ?it/s]"
      ]
     },
     "metadata": {},
     "output_type": "display_data"
    },
    {
     "data": {
      "application/vnd.jupyter.widget-view+json": {
       "model_id": "2de61fa2947d4bfe86d8634d2edaac07",
       "version_major": 2,
       "version_minor": 0
      },
      "text/plain": [
       "  0%|          | 0/1424 [00:00<?, ?it/s]"
      ]
     },
     "metadata": {},
     "output_type": "display_data"
    },
    {
     "name": "stdout",
     "output_type": "stream",
     "text": [
      "Epoch [8], Train Loss : [0.42241] Val Loss : [0.42013] Val accuracy score : [0.93915] Val precision score : [0.65021] Val f1 score : [0.91178]\n",
      "              precision    recall  f1-score   support\n",
      "\n",
      "           0       0.94      1.00      0.97     10703\n",
      "           1       0.36      0.01      0.03       686\n",
      "\n",
      "    accuracy                           0.94     11389\n",
      "   macro avg       0.65      0.51      0.50     11389\n",
      "weighted avg       0.91      0.94      0.91     11389\n",
      "\n",
      "Epoch 00009: reducing learning rate of group 0 to 1.5000e-08.\n"
     ]
    },
    {
     "data": {
      "application/vnd.jupyter.widget-view+json": {
       "model_id": "ef542d46d11f4bbea24cff0d252c7ef5",
       "version_major": 2,
       "version_minor": 0
      },
      "text/plain": [
       "  0%|          | 0/3322 [00:00<?, ?it/s]"
      ]
     },
     "metadata": {},
     "output_type": "display_data"
    },
    {
     "data": {
      "application/vnd.jupyter.widget-view+json": {
       "model_id": "e9921384d0c84171baf5478167ff71b8",
       "version_major": 2,
       "version_minor": 0
      },
      "text/plain": [
       "  0%|          | 0/1424 [00:00<?, ?it/s]"
      ]
     },
     "metadata": {},
     "output_type": "display_data"
    },
    {
     "name": "stdout",
     "output_type": "stream",
     "text": [
      "Epoch [9], Train Loss : [0.42167] Val Loss : [0.41965] Val accuracy score : [0.93915] Val precision score : [0.65021] Val f1 score : [0.91178]\n",
      "              precision    recall  f1-score   support\n",
      "\n",
      "           0       0.94      1.00      0.97     10703\n",
      "           1       0.36      0.01      0.03       686\n",
      "\n",
      "    accuracy                           0.94     11389\n",
      "   macro avg       0.65      0.51      0.50     11389\n",
      "weighted avg       0.91      0.94      0.91     11389\n",
      "\n"
     ]
    },
    {
     "data": {
      "application/vnd.jupyter.widget-view+json": {
       "model_id": "2a4dce59980346baa4f008741442487a",
       "version_major": 2,
       "version_minor": 0
      },
      "text/plain": [
       "  0%|          | 0/3322 [00:00<?, ?it/s]"
      ]
     },
     "metadata": {},
     "output_type": "display_data"
    },
    {
     "data": {
      "application/vnd.jupyter.widget-view+json": {
       "model_id": "fa2ae2cae8d3403dbd89f0de2566fcf0",
       "version_major": 2,
       "version_minor": 0
      },
      "text/plain": [
       "  0%|          | 0/1424 [00:00<?, ?it/s]"
      ]
     },
     "metadata": {},
     "output_type": "display_data"
    },
    {
     "name": "stdout",
     "output_type": "stream",
     "text": [
      "Epoch [10], Train Loss : [0.42118] Val Loss : [0.41917] Val accuracy score : [0.93915] Val precision score : [0.65021] Val f1 score : [0.91178]\n",
      "              precision    recall  f1-score   support\n",
      "\n",
      "           0       0.94      1.00      0.97     10703\n",
      "           1       0.36      0.01      0.03       686\n",
      "\n",
      "    accuracy                           0.94     11389\n",
      "   macro avg       0.65      0.51      0.50     11389\n",
      "weighted avg       0.91      0.94      0.91     11389\n",
      "\n"
     ]
    },
    {
     "data": {
      "application/vnd.jupyter.widget-view+json": {
       "model_id": "598a3f738c2c454ab13ecbb81c6ef5b2",
       "version_major": 2,
       "version_minor": 0
      },
      "text/plain": [
       "  0%|          | 0/3322 [00:00<?, ?it/s]"
      ]
     },
     "metadata": {},
     "output_type": "display_data"
    },
    {
     "data": {
      "application/vnd.jupyter.widget-view+json": {
       "model_id": "98210bb577cc4677b1659d70b9ca5a38",
       "version_major": 2,
       "version_minor": 0
      },
      "text/plain": [
       "  0%|          | 0/1424 [00:00<?, ?it/s]"
      ]
     },
     "metadata": {},
     "output_type": "display_data"
    },
    {
     "name": "stdout",
     "output_type": "stream",
     "text": [
      "Epoch [11], Train Loss : [0.42069] Val Loss : [0.41869] Val accuracy score : [0.93906] Val precision score : [0.64329] Val f1 score : [0.91173]\n",
      "              precision    recall  f1-score   support\n",
      "\n",
      "           0       0.94      1.00      0.97     10703\n",
      "           1       0.35      0.01      0.03       686\n",
      "\n",
      "    accuracy                           0.94     11389\n",
      "   macro avg       0.64      0.51      0.50     11389\n",
      "weighted avg       0.90      0.94      0.91     11389\n",
      "\n"
     ]
    },
    {
     "data": {
      "application/vnd.jupyter.widget-view+json": {
       "model_id": "ed80ed17673f4a0eb21aab27dabc661e",
       "version_major": 2,
       "version_minor": 0
      },
      "text/plain": [
       "  0%|          | 0/3322 [00:00<?, ?it/s]"
      ]
     },
     "metadata": {},
     "output_type": "display_data"
    },
    {
     "data": {
      "application/vnd.jupyter.widget-view+json": {
       "model_id": "3c7b3090e09546d6bf59cf1e0467e431",
       "version_major": 2,
       "version_minor": 0
      },
      "text/plain": [
       "  0%|          | 0/1424 [00:00<?, ?it/s]"
      ]
     },
     "metadata": {},
     "output_type": "display_data"
    },
    {
     "name": "stdout",
     "output_type": "stream",
     "text": [
      "Epoch [12], Train Loss : [0.42020] Val Loss : [0.41822] Val accuracy score : [0.93906] Val precision score : [0.64329] Val f1 score : [0.91173]\n",
      "              precision    recall  f1-score   support\n",
      "\n",
      "           0       0.94      1.00      0.97     10703\n",
      "           1       0.35      0.01      0.03       686\n",
      "\n",
      "    accuracy                           0.94     11389\n",
      "   macro avg       0.64      0.51      0.50     11389\n",
      "weighted avg       0.90      0.94      0.91     11389\n",
      "\n"
     ]
    },
    {
     "data": {
      "application/vnd.jupyter.widget-view+json": {
       "model_id": "e45171e298ec4b498914e348c534ad93",
       "version_major": 2,
       "version_minor": 0
      },
      "text/plain": [
       "  0%|          | 0/3322 [00:00<?, ?it/s]"
      ]
     },
     "metadata": {},
     "output_type": "display_data"
    },
    {
     "data": {
      "application/vnd.jupyter.widget-view+json": {
       "model_id": "18a94730711942908bdde728ca80dad1",
       "version_major": 2,
       "version_minor": 0
      },
      "text/plain": [
       "  0%|          | 0/1424 [00:00<?, ?it/s]"
      ]
     },
     "metadata": {},
     "output_type": "display_data"
    },
    {
     "name": "stdout",
     "output_type": "stream",
     "text": [
      "Epoch [13], Train Loss : [0.41971] Val Loss : [0.41774] Val accuracy score : [0.93889] Val precision score : [0.63092] Val f1 score : [0.91164]\n",
      "              precision    recall  f1-score   support\n",
      "\n",
      "           0       0.94      1.00      0.97     10703\n",
      "           1       0.32      0.01      0.03       686\n",
      "\n",
      "    accuracy                           0.94     11389\n",
      "   macro avg       0.63      0.51      0.50     11389\n",
      "weighted avg       0.90      0.94      0.91     11389\n",
      "\n"
     ]
    },
    {
     "data": {
      "application/vnd.jupyter.widget-view+json": {
       "model_id": "0adb0d64a5574f97b7b5bbb1b591890b",
       "version_major": 2,
       "version_minor": 0
      },
      "text/plain": [
       "  0%|          | 0/3322 [00:00<?, ?it/s]"
      ]
     },
     "metadata": {},
     "output_type": "display_data"
    },
    {
     "data": {
      "application/vnd.jupyter.widget-view+json": {
       "model_id": "ec22b492e89d47f4b07358735d270313",
       "version_major": 2,
       "version_minor": 0
      },
      "text/plain": [
       "  0%|          | 0/1424 [00:00<?, ?it/s]"
      ]
     },
     "metadata": {},
     "output_type": "display_data"
    },
    {
     "name": "stdout",
     "output_type": "stream",
     "text": [
      "Epoch [14], Train Loss : [0.41923] Val Loss : [0.41727] Val accuracy score : [0.93889] Val precision score : [0.63092] Val f1 score : [0.91164]\n",
      "              precision    recall  f1-score   support\n",
      "\n",
      "           0       0.94      1.00      0.97     10703\n",
      "           1       0.32      0.01      0.03       686\n",
      "\n",
      "    accuracy                           0.94     11389\n",
      "   macro avg       0.63      0.51      0.50     11389\n",
      "weighted avg       0.90      0.94      0.91     11389\n",
      "\n"
     ]
    },
    {
     "data": {
      "application/vnd.jupyter.widget-view+json": {
       "model_id": "71da350779db4cb7b948245d11303e0f",
       "version_major": 2,
       "version_minor": 0
      },
      "text/plain": [
       "  0%|          | 0/3322 [00:00<?, ?it/s]"
      ]
     },
     "metadata": {},
     "output_type": "display_data"
    },
    {
     "data": {
      "application/vnd.jupyter.widget-view+json": {
       "model_id": "00197564110f49c79685c392171946e6",
       "version_major": 2,
       "version_minor": 0
      },
      "text/plain": [
       "  0%|          | 0/1424 [00:00<?, ?it/s]"
      ]
     },
     "metadata": {},
     "output_type": "display_data"
    },
    {
     "name": "stdout",
     "output_type": "stream",
     "text": [
      "Epoch [15], Train Loss : [0.41874] Val Loss : [0.41679] Val accuracy score : [0.93889] Val precision score : [0.63691] Val f1 score : [0.91180]\n",
      "              precision    recall  f1-score   support\n",
      "\n",
      "           0       0.94      1.00      0.97     10703\n",
      "           1       0.33      0.01      0.03       686\n",
      "\n",
      "    accuracy                           0.94     11389\n",
      "   macro avg       0.64      0.51      0.50     11389\n",
      "weighted avg       0.90      0.94      0.91     11389\n",
      "\n"
     ]
    },
    {
     "data": {
      "application/vnd.jupyter.widget-view+json": {
       "model_id": "075f62e07be249a3881dfe1660953efd",
       "version_major": 2,
       "version_minor": 0
      },
      "text/plain": [
       "  0%|          | 0/3322 [00:00<?, ?it/s]"
      ]
     },
     "metadata": {},
     "output_type": "display_data"
    },
    {
     "ename": "KeyboardInterrupt",
     "evalue": "",
     "output_type": "error",
     "traceback": [
      "\u001b[1;31m---------------------------------------------------------------------------\u001b[0m",
      "\u001b[1;31mKeyboardInterrupt\u001b[0m                         Traceback (most recent call last)",
      "Cell \u001b[1;32mIn[23], line 4\u001b[0m\n\u001b[0;32m      1\u001b[0m optimizer \u001b[39m=\u001b[39m torch\u001b[39m.\u001b[39moptim\u001b[39m.\u001b[39mAdam(params \u001b[39m=\u001b[39m model\u001b[39m.\u001b[39mparameters(), lr \u001b[39m=\u001b[39m CFG[\u001b[39m\"\u001b[39m\u001b[39mLEARNING_RATE\u001b[39m\u001b[39m\"\u001b[39m])\n\u001b[0;32m      2\u001b[0m scheduler \u001b[39m=\u001b[39m torch\u001b[39m.\u001b[39moptim\u001b[39m.\u001b[39mlr_scheduler\u001b[39m.\u001b[39mReduceLROnPlateau(optimizer, mode\u001b[39m=\u001b[39m\u001b[39m'\u001b[39m\u001b[39mmax\u001b[39m\u001b[39m'\u001b[39m, factor\u001b[39m=\u001b[39m\u001b[39m0.5\u001b[39m, patience\u001b[39m=\u001b[39m\u001b[39m2\u001b[39m, threshold_mode\u001b[39m=\u001b[39m\u001b[39m'\u001b[39m\u001b[39mabs\u001b[39m\u001b[39m'\u001b[39m, min_lr\u001b[39m=\u001b[39m\u001b[39m1e-8\u001b[39m, verbose\u001b[39m=\u001b[39m\u001b[39mTrue\u001b[39;00m)\n\u001b[1;32m----> 4\u001b[0m infer_model \u001b[39m=\u001b[39m train(model, optimizer, train_loader, val_loader, scheduler, device)\n",
      "Cell \u001b[1;32mIn[21], line 25\u001b[0m, in \u001b[0;36mtrain\u001b[1;34m(model, optimizer, train_loader, val_loader, scheduler, device)\u001b[0m\n\u001b[0;32m     23\u001b[0m     loss\u001b[39m.\u001b[39mbackward()\n\u001b[0;32m     24\u001b[0m     optimizer\u001b[39m.\u001b[39mstep()\n\u001b[1;32m---> 25\u001b[0m     train_loss\u001b[39m.\u001b[39mappend(loss\u001b[39m.\u001b[39;49mitem())\n\u001b[0;32m     28\u001b[0m _val_loss, _val_score_f1, _val_score_acc, report , _val_score_recall, _val_score_precision \u001b[39m=\u001b[39m validation(model, criterion, val_loader, device)\n\u001b[0;32m     30\u001b[0m _train_loss \u001b[39m=\u001b[39m np\u001b[39m.\u001b[39mmean(train_loss)\n",
      "\u001b[1;31mKeyboardInterrupt\u001b[0m: "
     ]
    }
   ],
   "source": [
    "optimizer = torch.optim.Adam(params = model.parameters(), lr = CFG[\"LEARNING_RATE\"])\n",
    "scheduler = torch.optim.lr_scheduler.ReduceLROnPlateau(optimizer, mode='max', factor=0.5, patience=2, threshold_mode='abs', min_lr=1e-8, verbose=True)\n",
    "\n",
    "infer_model = train(model, optimizer, train_loader, val_loader, scheduler, device)"
   ]
  },
  {
   "cell_type": "code",
   "execution_count": null,
   "metadata": {},
   "outputs": [],
   "source": []
  },
  {
   "cell_type": "code",
   "execution_count": null,
   "metadata": {},
   "outputs": [],
   "source": []
  }
 ],
 "metadata": {
  "kernelspec": {
   "display_name": "EHmin",
   "language": "python",
   "name": "python3"
  },
  "language_info": {
   "codemirror_mode": {
    "name": "ipython",
    "version": 3
   },
   "file_extension": ".py",
   "mimetype": "text/x-python",
   "name": "python",
   "nbconvert_exporter": "python",
   "pygments_lexer": "ipython3",
   "version": "3.9.0"
  },
  "orig_nbformat": 4
 },
 "nbformat": 4,
 "nbformat_minor": 2
}
