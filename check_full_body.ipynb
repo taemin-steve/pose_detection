{
 "cells": [
  {
   "cell_type": "code",
   "execution_count": 38,
   "metadata": {},
   "outputs": [],
   "source": [
    "import numpy as np\n",
    "import mediapipe as mp\n",
    "from mediapipe.tasks import python\n",
    "from mediapipe.tasks.python import vision\n",
    "import glob\n",
    "\n",
    "import numpy as np\n",
    "import mediapipe as mp\n",
    "from mediapipe.tasks import python\n",
    "from mediapipe.tasks.python import vision\n",
    "\n",
    "from tqdm import tqdm\n"
   ]
  },
  {
   "attachments": {},
   "cell_type": "markdown",
   "metadata": {},
   "source": [
    "# Make DataFram\n",
    "\n",
    "###  - columns: review_img_path, product_img_path"
   ]
  },
  {
   "cell_type": "code",
   "execution_count": 39,
   "metadata": {},
   "outputs": [
    {
     "data": {
      "text/plain": [
       "42527"
      ]
     },
     "execution_count": 39,
     "metadata": {},
     "output_type": "execute_result"
    }
   ],
   "source": [
    "proper_review = glob.glob('./data/review_img/*/O/*')\n",
    "proper_review = sorted(proper_review)\n",
    "len(proper_review)"
   ]
  },
  {
   "cell_type": "code",
   "execution_count": 40,
   "metadata": {},
   "outputs": [
    {
     "data": {
      "text/plain": [
       "3896"
      ]
     },
     "execution_count": 40,
     "metadata": {},
     "output_type": "execute_result"
    }
   ],
   "source": [
    "unproper_review = glob.glob('./data/review_img/*/X/*')\n",
    "unproper_review = sorted(unproper_review)\n",
    "len(unproper_review)"
   ]
  },
  {
   "attachments": {},
   "cell_type": "markdown",
   "metadata": {},
   "source": []
  },
  {
   "cell_type": "code",
   "execution_count": 41,
   "metadata": {},
   "outputs": [],
   "source": [
    "base_options = python.BaseOptions(model_asset_path='pose_landmarker.task')\n",
    "\n",
    "options = vision.PoseLandmarkerOptions(\n",
    "    base_options=base_options,\n",
    "    num_poses = 22,\n",
    "    output_segmentation_masks=False)\n",
    "\n",
    "detector = vision.PoseLandmarker.create_from_options(options)\n"
   ]
  },
  {
   "cell_type": "code",
   "execution_count": 42,
   "metadata": {},
   "outputs": [
    {
     "name": "stderr",
     "output_type": "stream",
     "text": [
      "100%|██████████| 3896/3896 [04:35<00:00, 14.12it/s]\n"
     ]
    }
   ],
   "source": [
    "proper = 0\n",
    "unproper = 0\n",
    "\n",
    "for img_path in tqdm(unproper_review):\n",
    "    image = mp.Image.create_from_file(img_path)\n",
    "    pose_landmarks_list = detector.detect(image).pose_landmarks\n",
    "    \n",
    "    if not pose_landmarks_list:\n",
    "        unproper += 1\n",
    "        continue\n",
    "    \n",
    "    for landmark in pose_landmarks_list[0][11:33]:\n",
    "        if landmark.presence < 0.8:\n",
    "            unproper += 1\n",
    "            break\n",
    "    \n",
    "        "
   ]
  },
  {
   "cell_type": "code",
   "execution_count": 43,
   "metadata": {},
   "outputs": [
    {
     "name": "stdout",
     "output_type": "stream",
     "text": [
      "0 3195\n"
     ]
    }
   ],
   "source": [
    "print(proper, unproper)"
   ]
  },
  {
   "cell_type": "code",
   "execution_count": null,
   "metadata": {},
   "outputs": [],
   "source": []
  }
 ],
 "metadata": {
  "kernelspec": {
   "display_name": "EHmin",
   "language": "python",
   "name": "python3"
  },
  "language_info": {
   "codemirror_mode": {
    "name": "ipython",
    "version": 3
   },
   "file_extension": ".py",
   "mimetype": "text/x-python",
   "name": "python",
   "nbconvert_exporter": "python",
   "pygments_lexer": "ipython3",
   "version": "3.9.16"
  },
  "orig_nbformat": 4
 },
 "nbformat": 4,
 "nbformat_minor": 2
}
